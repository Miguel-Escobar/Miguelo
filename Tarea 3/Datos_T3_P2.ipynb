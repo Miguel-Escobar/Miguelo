{
 "cells": [
  {
   "cell_type": "code",
   "execution_count": 8,
   "id": "3ebe44ea",
   "metadata": {},
   "outputs": [
    {
     "data": {
      "image/png": "[encoded data removed]",
      "text/plain": [
       "<Figure size 432x288 with 1 Axes>"
      ]
     },
     "metadata": {
      "needs_background": "light"
     },
     "output_type": "display_data"
    }
   ],
   "source": [
    "#Datos de rayos gamma\n",
    "\n",
    "import numpy as np\n",
    "import matplotlib.pyplot as plt\n",
    "\n",
    "# Energías\n",
    "energia = np.array([0.2, 0.26, 0.32, 0.37, 0.43, 0.54, 0.68, 0.8, 1.0, 1.2, 1.4, 1.8,\n",
    "                    2.1, 2.6, 3.1, 3.8, 4.6, 5.5, 6.9, 8.2, 10., 12., 14., 16.])\n",
    "# Flujos\n",
    "flujo_e2 = np.array([3.3, 3.15, 3.04, 2.7, 2.85, 2.65, 2.9, 2.75, 2.8, 2.65, 2.2,\n",
    "                     2.0, 2.0, 1.95, 1.5, 1.4, 1.3, 1.0, 0.9, 1.1, 0.56, 0.54, 0.61, 0.33])\n",
    "\n",
    "# Errores estándar\n",
    "sigma = np.array([0.15, 0.12, 0.13, 0.14, 0.13, 0.13, 0.14, 0.13, 0.13, 0.15, 0.18,\n",
    "                  0.2, 0.2, 0.22, 0.21, 0.19, 0.21, 0.18, 0.21, 0.2, 0.25, 0.3, 0.27, 0.16])\n",
    "\n",
    "\n",
    "# Gráfico en log-log\n",
    "plt.errorbar(energia, flujo_e2, color='red', marker='o', linestyle='None', yerr=sigma)\n",
    "plt.xscale(\"log\")\n",
    "plt.yscale(\"log\")\n",
    "plt.xlabel(\"$E$ (TeV)\", fontsize=12)\n",
    "plt.ylabel(\"flux ($10^{-12}$TeV cm$^{-2}$s$^{-1}$)\", fontsize=12)\n",
    "plt.savefig(\"Flujo_rayosgamma.pdf\")\n",
    "plt.show()"
   ]
  },
  {
   "cell_type": "code",
   "execution_count": null,
   "id": "ef567be3",
   "metadata": {},
   "outputs": [],
   "source": []
  }
 ],
 "metadata": {
  "kernelspec": {
   "display_name": "Python 3.9.7 ('base')",
   "language": "python",
   "name": "python3"
  },
  "language_info": {
   "codemirror_mode": {
    "name": "ipython",
    "version": 3
   },
   "file_extension": ".py",
   "mimetype": "text/x-python",
   "name": "python",
   "nbconvert_exporter": "python",
   "pygments_lexer": "ipython3",
   "version": "3.9.7"
  },
  "vscode": {
   "interpreter": {
    "hash": "506d569f0b28ea103188d4d9f745b7b2b85d3e31dafde01bdf7899299ac0033b"
   }
  }
 },
 "nbformat": 4,
 "nbformat_minor": 5
}
